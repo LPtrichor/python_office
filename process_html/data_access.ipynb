{
 "cells": [
  {
   "cell_type": "code",
   "execution_count": 10,
   "metadata": {
    "collapsed": true,
    "ExecuteTime": {
     "end_time": "2024-02-24T14:10:40.767581500Z",
     "start_time": "2024-02-24T14:10:40.648998100Z"
    }
   },
   "outputs": [
    {
     "name": "stdout",
     "output_type": "stream",
     "text": [
      "Connected to sora at 47.117.170.179\n"
     ]
    }
   ],
   "source": [
    "import csv\n",
    "import psycopg2\n",
    "from psycopg2.extras import execute_batch\n",
    "import uuid\n",
    "from datetime import datetime\n",
    "\n",
    "# 数据库连接参数\n",
    "conn_params = {\n",
    "    \"dbname\": \"sora\",\n",
    "    \"user\": \"sora\",\n",
    "    \"password\": \"2ye2ei7XNeHA5nwK\",\n",
    "    \"host\": \"47.117.170.179\",  # 确保这里是正确的IP地址\n",
    "    \"port\": \"5432\"  # 确保这里是正确的端口号\n",
    "}\n",
    "\n",
    "\n",
    "# 连接数据库\n",
    "conn = psycopg2.connect(**conn_params)\n",
    "cursor = conn.cursor()\n",
    "# 打印数据库连接信息\n",
    "print(f\"Connected to {conn_params['dbname']} at {conn_params['host']}\")"
   ]
  },
  {
   "cell_type": "code",
   "execution_count": 11,
   "outputs": [
    {
     "name": "stdout",
     "output_type": "stream",
     "text": [
      "数据导入完成。\n"
     ]
    }
   ],
   "source": [
    "# 读取CSV文件\n",
    "with open('videos_info.csv', 'r', encoding='utf-8') as csvfile:\n",
    "    reader = csv.DictReader(csvfile)\n",
    "    videos_data = []\n",
    "    for row in reader:\n",
    "        # 为每个视频条目自动生成 UUID\n",
    "        video_uuid = str(uuid.uuid4())\n",
    "        # 使用当前时间作为 created_at 的值\n",
    "        created_at = datetime.now()\n",
    "        # 假设视频状态为 1（您可以根据实际情况调整）\n",
    "        status = 1\n",
    "\n",
    "        # 将从 CSV 读取的数据和自动生成的数据添加到列表中\n",
    "        videos_data.append((\n",
    "            video_uuid,  # user_uuid 字段，假设每个视频都有一个唯一的用户UUID\n",
    "            row['video_description'],\n",
    "            row['video_url'],\n",
    "            row['poster_url'],\n",
    "            row['poster_url'],  # 假设 CSV 文件中包含 post_url 字段\n",
    "            row['user_nickname'],\n",
    "            row['user_avatar_url'],\n",
    "            created_at,\n",
    "            video_uuid,  # 视频的 UUID\n",
    "            status\n",
    "        ))\n",
    "\n",
    "# 执行批量插入到 videos 表\n",
    "insert_query = \"\"\"\n",
    "INSERT INTO videos (\n",
    "    user_uuid, video_description, video_url, cover_url, post_url, user_nickname, user_avatar_url, created_at, uuid, status\n",
    ") VALUES (%s, %s, %s, %s, %s, %s, %s, %s, %s, %s)\n",
    "\"\"\"\n",
    "execute_batch(cursor, insert_query, videos_data)\n",
    "\n",
    "# 提交事务并关闭连接\n",
    "conn.commit()\n",
    "cursor.close()\n",
    "conn.close()\n",
    "\n",
    "print(\"数据导入完成。\")\n"
   ],
   "metadata": {
    "collapsed": false,
    "ExecuteTime": {
     "end_time": "2024-02-24T14:10:45.296830600Z",
     "start_time": "2024-02-24T14:10:45.162690Z"
    }
   }
  },
  {
   "cell_type": "code",
   "execution_count": null,
   "outputs": [],
   "source": [
    "# 备选 优化\n",
    "# 逐条执行插入到 videos 表\n",
    "for video_data in videos_data:\n",
    "    cursor.execute(insert_query, video_data)\n",
    "    conn.commit()  # 提交每一次插入操作"
   ],
   "metadata": {
    "collapsed": false
   }
  }
 ],
 "metadata": {
  "kernelspec": {
   "display_name": "Python 3",
   "language": "python",
   "name": "python3"
  },
  "language_info": {
   "codemirror_mode": {
    "name": "ipython",
    "version": 2
   },
   "file_extension": ".py",
   "mimetype": "text/x-python",
   "name": "python",
   "nbconvert_exporter": "python",
   "pygments_lexer": "ipython2",
   "version": "2.7.6"
  }
 },
 "nbformat": 4,
 "nbformat_minor": 0
}
