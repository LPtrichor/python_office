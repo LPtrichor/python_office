{
 "cells": [
  {
   "cell_type": "code",
   "execution_count": 1,
   "metadata": {
    "collapsed": true,
    "ExecuteTime": {
     "end_time": "2024-02-24T12:46:51.974889500Z",
     "start_time": "2024-02-24T12:46:50.270257800Z"
    }
   },
   "outputs": [
    {
     "name": "stdout",
     "output_type": "stream",
     "text": [
      "网页内容已保存到 sora_fm.html\n"
     ]
    }
   ],
   "source": [
    "import requests\n",
    "\n",
    "# 目标网址\n",
    "url = 'https://sora.fm/'\n",
    "\n",
    "# 使用requests获取网页内容\n",
    "response = requests.get(url)\n",
    "response.raise_for_status()  # 确保请求成功\n",
    "\n",
    "# 将获取的网页内容保存到HTML文件中\n",
    "with open('sora_fm.html', 'w', encoding='utf-8') as file:\n",
    "    file.write(response.text)\n",
    "\n",
    "print('网页内容已保存到 sora_fm.html')"
   ]
  },
  {
   "cell_type": "code",
   "execution_count": 2,
   "outputs": [
    {
     "name": "stdout",
     "output_type": "stream",
     "text": [
      "视频信息已成功保存到 videos_info.csv\n"
     ]
    }
   ],
   "source": [
    "from bs4 import BeautifulSoup\n",
    "import csv\n",
    "\n",
    "# 加载并解析HTML文件\n",
    "with open('sora_fm.html', 'r', encoding='utf-8') as file:\n",
    "    soup = BeautifulSoup(file, 'lxml')\n",
    "\n",
    "# 找到所有视频相关的div元素\n",
    "videos = soup.find_all('div', class_='mb-6 gap-6 overflow-hidden rounded-2xl border border-solid border-black shadow-lg bg-gray-900 text-white p-4')\n",
    "\n",
    "# 准备写入CSV文件\n",
    "with open('videos_info.csv', 'w', newline='', encoding='utf-8') as csvfile:\n",
    "    fieldnames = ['video_url', 'poster_url', 'user_avatar_url', 'user_nickname', 'video_description']\n",
    "    writer = csv.DictWriter(csvfile, fieldnames=fieldnames)\n",
    "    writer.writeheader()\n",
    "\n",
    "    # 遍历每个视频，提取信息\n",
    "    for video in videos:\n",
    "        video_url = video.find('video').get('src')\n",
    "        poster_url = video.find('video').get('poster')\n",
    "        user_avatar_url = video.find('img').get('src')\n",
    "        user_nickname = video.find('p', class_='text-sm text-white').text.strip()\n",
    "        video_description = video.find('p', class_='mb-4 text-md text-white').text.strip()\n",
    "\n",
    "        # 将提取的信息写入CSV文件\n",
    "        writer.writerow({\n",
    "            'video_url': video_url,\n",
    "            'poster_url': poster_url,\n",
    "            'user_avatar_url': user_avatar_url,\n",
    "            'user_nickname': user_nickname,\n",
    "            'video_description': video_description\n",
    "        })\n",
    "\n",
    "print('视频信息已成功保存到 videos_info.csv')"
   ],
   "metadata": {
    "collapsed": false,
    "ExecuteTime": {
     "end_time": "2024-02-24T12:51:24.489655700Z",
     "start_time": "2024-02-24T12:51:23.511462300Z"
    }
   }
  },
  {
   "cell_type": "code",
   "execution_count": 6,
   "outputs": [
    {
     "name": "stdout",
     "output_type": "stream",
     "text": [
      "Index(['video_url', 'poster_url', 'user_avatar_url', 'user_nickname',\n",
      "       'video_description'],\n",
      "      dtype='object')\n"
     ]
    }
   ],
   "source": [
    "# 打印csv文件首行信息\n",
    "import pandas as pd\n",
    "df = pd.read_csv('videos_info.csv')\n",
    "# 只打印index信息\n",
    "# print(df.index)\n",
    "# 打印标题\n",
    "print(df.columns)\n",
    "# print(df.head())"
   ],
   "metadata": {
    "collapsed": false,
    "ExecuteTime": {
     "end_time": "2024-02-24T12:56:56.155873300Z",
     "start_time": "2024-02-24T12:56:56.138239800Z"
    }
   }
  },
  {
   "cell_type": "code",
   "execution_count": null,
   "outputs": [],
   "source": [],
   "metadata": {
    "collapsed": false
   }
  }
 ],
 "metadata": {
  "kernelspec": {
   "display_name": "Python 3",
   "language": "python",
   "name": "python3"
  },
  "language_info": {
   "codemirror_mode": {
    "name": "ipython",
    "version": 2
   },
   "file_extension": ".py",
   "mimetype": "text/x-python",
   "name": "python",
   "nbconvert_exporter": "python",
   "pygments_lexer": "ipython2",
   "version": "2.7.6"
  }
 },
 "nbformat": 4,
 "nbformat_minor": 0
}
