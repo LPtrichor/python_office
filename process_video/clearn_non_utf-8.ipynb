{
 "cells": [
  {
   "cell_type": "code",
   "execution_count": null,
   "metadata": {
    "collapsed": true
   },
   "outputs": [],
   "source": [
    "def clean_non_utf8_characters(file_path, output_file_path):\n",
    "    \"\"\"\n",
    "    读取一个文件，去除非UTF-8字符，并将清洁后的内容保存到另一个文件。\n",
    "\n",
    "    参数:\n",
    "    - file_path: 需要被清洁的文件的路径。\n",
    "    - output_file_path: 清洁后文件的保存路径。\n",
    "    \"\"\"\n",
    "    # 尝试以二进制模式读取文件内容，以避免编码错误\n",
    "    with open(file_path, 'rb') as file:\n",
    "        raw_data = file.read()\n",
    "\n",
    "    # 将原始数据解码为UTF-8，忽略非UTF-8字符\n",
    "    # 'replace' 选项会用� (替换字符) 替换非法字符\n",
    "    # 也可以使用 'ignore' 来简单地忽略非法字符\n",
    "    decoded_data = raw_data.decode('utf-8', errors='replace')\n",
    "\n",
    "    # 将清洁后的数据保存到新文件\n",
    "    with open(output_file_path, 'w', encoding='utf-8') as clean_file:\n",
    "        clean_file.write(decoded_data)\n",
    "\n",
    "# 使用示例\n",
    "source_file_path = 'path/to/your/input.srt'  # 指向需要处理的文件\n",
    "output_file_path = 'path/to/your/cleaned_output.srt'  # 输出文件的路径\n",
    "clean_non_utf8_characters(source_file_path, output_file_path)"
   ]
  }
 ],
 "metadata": {
  "kernelspec": {
   "display_name": "Python 3",
   "language": "python",
   "name": "python3"
  },
  "language_info": {
   "codemirror_mode": {
    "name": "ipython",
    "version": 2
   },
   "file_extension": ".py",
   "mimetype": "text/x-python",
   "name": "python",
   "nbconvert_exporter": "python",
   "pygments_lexer": "ipython2",
   "version": "2.7.6"
  }
 },
 "nbformat": 4,
 "nbformat_minor": 0
}
