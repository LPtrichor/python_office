{
 "cells": [
  {
   "cell_type": "code",
   "execution_count": 1,
   "metadata": {
    "collapsed": true,
    "ExecuteTime": {
     "end_time": "2024-02-06T20:48:16.798430300Z",
     "start_time": "2024-02-06T20:46:38.212087400Z"
    }
   },
   "outputs": [],
   "source": [
    "from pydub import AudioSegment\n",
    "import math\n",
    "import os\n",
    "\n",
    "# 指定FFmpeg的路径\n",
    "ffmpeg_path = r\"E:\\Software\\ffmpeg-master-latest-win64-gpl\\bin\"\n",
    "os.environ[\"PATH\"] += os.pathsep + ffmpeg_path\n",
    "\n",
    "def split_audio(file_path, segment_length_ms):\n",
    "    audio = AudioSegment.from_file(file_path)\n",
    "    duration_ms = len(audio)\n",
    "    segments_count = math.ceil(duration_ms / segment_length_ms)\n",
    "\n",
    "    for i in range(segments_count):\n",
    "        start_ms = i * segment_length_ms\n",
    "        end_ms = min((i + 1) * segment_length_ms, duration_ms)\n",
    "        segment = audio[start_ms:end_ms]\n",
    "        segment.export(f\"segment_{i}.mp3\", format=\"mp3\")\n",
    "\n",
    "# 使用示例\n",
    "file_path = \"ADN-529.mp3\"  # 你的音频文件路径\n",
    "segment_length_ms = 20 * 60 * 1000  # 每个片段的长度，这里设置为30秒\n",
    "split_audio(file_path, segment_length_ms)"
   ]
  }
 ],
 "metadata": {
  "kernelspec": {
   "name": "pytorch",
   "language": "python",
   "display_name": "PyTorch"
  },
  "language_info": {
   "codemirror_mode": {
    "name": "ipython",
    "version": 2
   },
   "file_extension": ".py",
   "mimetype": "text/x-python",
   "name": "python",
   "nbconvert_exporter": "python",
   "pygments_lexer": "ipython2",
   "version": "2.7.6"
  }
 },
 "nbformat": 4,
 "nbformat_minor": 0
}
